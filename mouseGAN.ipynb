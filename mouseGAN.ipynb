{
 "cells": [
  {
   "cell_type": "code",
   "execution_count": null,
   "metadata": {},
   "outputs": [],
   "source": [
    "import os\n",
    "import shutil\n",
    "\n",
    "try:\n",
    "  import google.colab\n",
    "  os.system(\"git clone https://github.com/matt-nann/AuthenticCursor.git\")\n",
    "  try:\n",
    "    shutil.copytree(\"AuthenticCursor/src\", \"src\")\n",
    "  except:\n",
    "    shutil.rmtree(\"src\")\n",
    "    shutil.copytree(\"AuthenticCursor/src\", \"src\")\n",
    "  try:\n",
    "    shutil.copy(\"AuthenticCursor/requirementsGAN.txt\", \"requirementsGAN.txt\")\n",
    "  except:\n",
    "    shutil.rmtree(\"requirementsGAN.txt\")\n",
    "    shutil.copy(\"AuthenticCursor/requirementsGAN.txt\", \"requirementsGAN.txt\")\n",
    "  os.system(\"pip install -r requirementsGAN.txt\")\n",
    "  shutil.rmtree(\"AuthenticCursor\")\n",
    "  # installing and logging into weights and biases\n",
    "  os.system(\"pip install wandb\")\n",
    "  os.system(\"wandb login\")\n",
    "except:\n",
    "  ..."
   ]
  },
  {
   "cell_type": "code",
   "execution_count": null,
   "metadata": {},
   "outputs": [],
   "source": [
    "import os\n",
    "import pandas as pd\n",
    "import numpy as np\n",
    "import torch\n",
    "from torch import nn\n",
    "from torch.nn.utils.rnn import pad_sequence\n",
    "from torch.utils.data import Dataset, DataLoader, TensorDataset\n",
    "from src.mouseGAN.dataProcessing import MouseGAN_Data\n",
    "from src.mouseGAN.dataset import getDataloader, visuallyVertifyDataloader\n",
    "\n",
    "USE_FAKE_DATA = True\n",
    "SAVE_FAKE_DATA = False\n",
    "dataset = MouseGAN_Data(USE_FAKE_DATA=USE_FAKE_DATA, equal_length=True, lowerLimit=25, upperLimit=30)\n",
    "\n",
    "SAMPLES = 20000\n",
    "try:\n",
    "    import google.colab\n",
    "    IN_COLAB = True\n",
    "except:\n",
    "    IN_COLAB = False\n",
    "IN_COLAB = True\n",
    "if USE_FAKE_DATA:\n",
    "    if IN_COLAB:\n",
    "        dataset.createFakeWindMouseDataset(save=SAVE_FAKE_DATA, samples=SAMPLES,\n",
    "                                        low_radius = 200, high_radius = 300,\n",
    "                                        max_width = 200, min_width = 50,\n",
    "                                        max_height = 100, min_height = 25,)\n",
    "    else:\n",
    "        dataset.loadFakeWindMouseData()\n",
    "else:\n",
    "    df_moves, df_trajectory = dataset.collectRawMouseTrajectories()"
   ]
  },
  {
   "cell_type": "code",
   "execution_count": null,
   "metadata": {},
   "outputs": [],
   "source": [
    "norm_input_trajectories, norm_buttonTargets = dataset.processMouseData(SHOW_ALL=False)"
   ]
  },
  {
   "attachments": {},
   "cell_type": "markdown",
   "metadata": {},
   "source": [
    "## verifying the mean trajectory is centered around zero (even class distribution)"
   ]
  },
  {
   "cell_type": "code",
   "execution_count": null,
   "metadata": {},
   "outputs": [],
   "source": [
    "dataset.plotMeanPath()"
   ]
  },
  {
   "cell_type": "code",
   "execution_count": null,
   "metadata": {},
   "outputs": [],
   "source": [
    "BATCH_SIZE = 256\n",
    "dataloader = getDataloader(norm_input_trajectories, norm_buttonTargets, BATCH_SIZE)"
   ]
  },
  {
   "cell_type": "code",
   "execution_count": null,
   "metadata": {},
   "outputs": [],
   "source": [
    "visuallyVertifyDataloader(dataloader, dataset, showNumBatches=1)"
   ]
  },
  {
   "cell_type": "code",
   "execution_count": null,
   "metadata": {},
   "outputs": [],
   "source": [
    "from src.mouseGAN.model_config import Config, LR_SCHEDULERS, LOSS_FUNC, C_D_lrScheduler, C_G_lrScheduler, C_MiniBatchDisc, C_Discriminator, C_Generator\n",
    "from src.mouseGAN.models import MouseGAN\n",
    "from src.mouseGAN.experimentTracker import initialize_wandb\n",
    "\n",
    "import wandb\n",
    "\n",
    "LOAD_PRETRAINED = False\n",
    "\n",
    "num_epochs = 100\n",
    "num_feats = norm_input_trajectories[0].shape[1]\n",
    "latent_dim = 100\n",
    "num_target_feats = 4 # width, height, start_x, start_y\n",
    "MAX_SEQ_LEN = norm_input_trajectories[0].shape[0]\n",
    "numBatches = len(dataloader)\n",
    "\n",
    "D_config = C_Discriminator(lr=0.0001, bidirectional=True, hidden_units=128, num_layers=4, useEndDeviationLoss=True)\n",
    "G_config = C_Generator(lr=0.0001, hidden_units=128, useOutsideTargetLoss=True, drop_prob=0.5)\n",
    "\n",
    "config = Config(num_epochs, BATCH_SIZE, num_feats, latent_dim, num_target_feats, MAX_SEQ_LEN,\n",
    "                discriminator=D_config, generator=G_config, locationMSELoss = False)\n",
    "\n",
    "# run = initialize_wandb(config)\n",
    "# device = torch.device(\"cuda\" if torch.cuda.is_available() else \"cpu\")\n",
    "device = torch.device(\"cpu\")\n",
    "gan = MouseGAN(dataset, device, config, verbose=True)\n",
    "# if LOAD_PRETRAINED:\n",
    "#     gan.loadPretrained(startingEpoch='final')\n",
    "\n",
    "gan.train(dataloader, modelSaveInterval=3, catchErrors=False)\n",
    "\n",
    "wandb.finish()"
   ]
  },
  {
   "cell_type": "code",
   "execution_count": null,
   "metadata": {},
   "outputs": [],
   "source": [
    "gan.visualTrainingVerfication()"
   ]
  },
  {
   "cell_type": "code",
   "execution_count": null,
   "metadata": {},
   "outputs": [],
   "source": [
    "wandb.finish()"
   ]
  },
  {
   "cell_type": "code",
   "execution_count": null,
   "metadata": {},
   "outputs": [],
   "source": [
    "gan.save_models('final')"
   ]
  },
  {
   "cell_type": "code",
   "execution_count": null,
   "metadata": {},
   "outputs": [],
   "source": [
    "gan.save_models('final')\n",
    "for epoch in ['final']:\n",
    "    gan.loadPretrained(startingEpoch=epoch)\n",
    "    gan.visualTrainingVerfication(epoch=1,batch=1,batches=len(dataloader))"
   ]
  }
 ],
 "metadata": {
  "kernelspec": {
   "display_name": "venv",
   "language": "python",
   "name": "python3"
  },
  "language_info": {
   "codemirror_mode": {
    "name": "ipython",
    "version": 3
   },
   "file_extension": ".py",
   "mimetype": "text/x-python",
   "name": "python",
   "nbconvert_exporter": "python",
   "pygments_lexer": "ipython3",
   "version": "3.8.13"
  },
  "orig_nbformat": 4
 },
 "nbformat": 4,
 "nbformat_minor": 2
}
