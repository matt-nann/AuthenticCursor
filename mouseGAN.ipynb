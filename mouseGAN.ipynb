{
 "cells": [
  {
   "cell_type": "code",
   "execution_count": null,
   "metadata": {},
   "outputs": [],
   "source": [
    "import os\n",
    "import shutil\n",
    "\n",
    "os.system(\"git clone https://github.com/matt-nann/AuthenticCursor.git\")\n",
    "try:\n",
    "  shutil.copytree(\"AuthenticCursor/src\", \"src\")\n",
    "except:\n",
    "  ...\n",
    "shutil.copy(\"AuthenticCursor/requirementsGAN.txt\", \"requirementsGAN.txt\")\n",
    "os.system(\"pip install -r requirementsGAN.txt\")\n",
    "shutil.rmtree(\"AuthenticCursor\")"
   ]
  },
  {
   "cell_type": "code",
   "execution_count": 2,
   "metadata": {},
   "outputs": [],
   "source": [
    "import os\n",
    "import pandas as pd\n",
    "import numpy as np\n",
    "import torch\n",
    "from torch import nn\n",
    "from torch.nn.utils.rnn import pad_sequence\n",
    "from torch.utils.data import Dataset, DataLoader, TensorDataset\n",
    "from src.mouseGAN.dataProcessing import MouseGAN_Data\n",
    "from src.mouseGAN.dataset import getDataloader\n",
    "\n",
    "USE_FAKE_DATA = True\n",
    "dataset = MouseGAN_Data(USE_FAKE_DATA=USE_FAKE_DATA, equal_length=True, lowerLimit=50, upperLimit=80)\n",
    "if USE_FAKE_DATA:\n",
    "    dataset.loadFakeWindMouseData()\n",
    "else:\n",
    "    df_moves, df_trajectory = dataset.collectRawMouseTrajectories()"
   ]
  },
  {
   "cell_type": "code",
   "execution_count": null,
   "metadata": {},
   "outputs": [],
   "source": [
    "norm_input_trajectories, norm_buttonTargets = dataset.processMouseData(SHOW_ALL=False, samples=5000)"
   ]
  },
  {
   "attachments": {},
   "cell_type": "markdown",
   "metadata": {},
   "source": [
    "## verifying the mean trajectory is centered around zero (even class distribution)"
   ]
  },
  {
   "cell_type": "code",
   "execution_count": 31,
   "metadata": {},
   "outputs": [
    {
     "data": {
      "application/vnd.plotly.v1+json": {
       "config": {
        "plotlyServerURL": "https://plot.ly"
       },
       "data": [
        {
         "marker": {
          "color": [
           0,
           7.168907229625056,
           10.947828804353936,
           13.587456739181297,
           14.638701130232883,
           17.08564624303634,
           18.257040612093856,
           19.343593051052718,
           15.307015136186294,
           20.283966363586966,
           10.579726051189255,
           18.058853383483637,
           18.315234772118234,
           10.683662646272289,
           8.50650414274621,
           9.791177908204189,
           12.66131868932129,
           13.093901395738124,
           5.278087822330207,
           7.3128041010516425,
           10.042092622672673,
           12.183133923636985,
           13.526631746666862,
           12.229447870167144,
           11.74178947665457,
           10.259722689730278,
           14.159953930125905,
           13.078058167107452,
           11.740894689635823,
           16.968342709257435,
           26.921665930898147,
           23.905343464103822,
           24.893422478902238,
           21.43299718360446,
           18.11155665988181,
           14.952647754398635,
           15.851413313009159,
           10.621819190070672,
           14.165720999367018,
           3.7493534779054283,
           3.9812256298547757,
           4.218102808963441,
           7.751268043085914,
           10.928740811827875,
           9.047504035943694,
           8.47318440823809,
           4.335897031842412,
           1.7654218139343218,
           2.3643410202085344,
           3.8235251625353746
          ],
          "colorbar": {
           "title": {
            "text": "Velocity"
           }
          },
          "colorscale": [
           [
            0,
            "#440154"
           ],
           [
            0.1111111111111111,
            "#482878"
           ],
           [
            0.2222222222222222,
            "#3e4989"
           ],
           [
            0.3333333333333333,
            "#31688e"
           ],
           [
            0.4444444444444444,
            "#26828e"
           ],
           [
            0.5555555555555556,
            "#1f9e89"
           ],
           [
            0.6666666666666666,
            "#35b779"
           ],
           [
            0.7777777777777778,
            "#6ece58"
           ],
           [
            0.8888888888888888,
            "#b5de2b"
           ],
           [
            1,
            "#fde725"
           ]
          ],
          "showscale": true,
          "size": 5
         },
         "mode": "lines+markers",
         "type": "scatter",
         "x": [
          -3.2828358233289916,
          -3.225602808649883,
          -3.159332176926176,
          -3.0521073376400163,
          -2.935056359547073,
          -2.7997617618887762,
          -2.6805964542002507,
          -2.582732276448417,
          -2.5244291904885072,
          -2.4760402304661957,
          -2.4244651024381545,
          -2.306575289849194,
          -2.172830249293194,
          -2.088135442696999,
          -2.020598345260008,
          -1.9422690368852324,
          -1.8413128582592062,
          -1.7369089156635789,
          -1.697351106568468,
          -1.6458123464596401,
          -1.566023279967242,
          -1.5284226075750555,
          -1.4548344669678426,
          -1.3907566037064252,
          -1.3590704749424733,
          -1.355451682876507,
          -1.339366376119202,
          -1.3139974845510771,
          -1.2685308561621922,
          -1.1895393340947522,
          -1.0327439725747474,
          -0.9071395421400712,
          -0.8523460810995312,
          -0.8091405231146727,
          -0.8054838891723349,
          -0.7612399933890861,
          -0.7472588334614377,
          -0.7491019676016212,
          -0.7473675989084781,
          -0.7273819706633035,
          -0.6971406839048165,
          -0.6800069685238608,
          -0.740642616966009,
          -0.8070964472142169,
          -0.8357762860411527,
          -0.8029450009050545,
          -0.776236727521603,
          -0.7725916701778879,
          -0.791482989011752,
          -0.8220257884506432
         ],
         "y": [
          -2.7161180640325115,
          -2.712437193724143,
          -2.7696990529746515,
          -2.751853924761016,
          -2.755559199032016,
          -2.736111640645954,
          -2.6516600007220053,
          -2.531785997664876,
          -2.424100103696189,
          -2.2692110362961193,
          -2.2021024319204003,
          -2.1185930793818137,
          -2.058752249581638,
          -2.0472722156900613,
          -2.0389163982828844,
          -2.0390505573530446,
          -2.047274024881619,
          -2.055796525172786,
          -2.0410281384142563,
          -2.0687100973577195,
          -2.0780747553750323,
          -1.9881546265020318,
          -1.908814531895276,
          -1.8348832886131847,
          -1.746454532366955,
          -1.6644565655453687,
          -1.5523247778759757,
          -1.4508225705717577,
          -1.3686331757437957,
          -1.2582360864860034,
          -1.1105848596658938,
          -0.9663721154026562,
          -0.7749110083316946,
          -0.6089797715839067,
          -0.46413346667613653,
          -0.3529952424802423,
          -0.22695701564271675,
          -0.14200245365478864,
          -0.028689958064591986,
          -0.0063233678060905275,
          -0.016317098651123726,
          -0.04538854238705568,
          -0.05837222983127455,
          -0.001557790714114042,
          0.06489772763318122,
          0.12420183687812977,
          0.14633480616383937,
          0.13268990731656322,
          0.13174915541138332,
          0.1300831838563147
         ]
        }
       ],
       "layout": {
        "annotations": [
         {
          "arrowcolor": "#440154",
          "arrowhead": 5,
          "arrowsize": 2,
          "arrowwidth": 1,
          "ax": -3.2828358233289916,
          "axref": "x",
          "ay": -2.7161180640325115,
          "ayref": "y",
          "showarrow": true,
          "x": -3.2828358233289916,
          "xref": "x",
          "y": -2.7161180640325115,
          "yref": "y"
         },
         {
          "arrowcolor": "#39568c",
          "arrowhead": 5,
          "arrowsize": 2,
          "arrowwidth": 1,
          "ax": -3.225602808649883,
          "axref": "x",
          "ay": -2.712437193724143,
          "ayref": "y",
          "showarrow": true,
          "x": -3.1683697939707742,
          "xref": "x",
          "y": -2.7087563234157743,
          "yref": "y"
         },
         {
          "arrowcolor": "#297a8e",
          "arrowhead": 5,
          "arrowsize": 2,
          "arrowwidth": 1,
          "ax": -3.159332176926176,
          "axref": "x",
          "ay": -2.7696990529746515,
          "ayref": "y",
          "showarrow": true,
          "x": -3.093061545202469,
          "xref": "x",
          "y": -2.82696091222516,
          "yref": "y"
         },
         {
          "arrowcolor": "#20928c",
          "arrowhead": 5,
          "arrowsize": 2,
          "arrowwidth": 1,
          "ax": -3.0521073376400163,
          "axref": "x",
          "ay": -2.751853924761016,
          "ayref": "y",
          "showarrow": true,
          "x": -2.9448824983538566,
          "xref": "x",
          "y": -2.7340087965473803,
          "yref": "y"
         },
         {
          "arrowcolor": "#1e9b8a",
          "arrowhead": 5,
          "arrowsize": 2,
          "arrowwidth": 1,
          "ax": -2.935056359547073,
          "axref": "x",
          "ay": -2.755559199032016,
          "ayref": "y",
          "showarrow": true,
          "x": -2.8180053814541295,
          "xref": "x",
          "y": -2.7592644733030163,
          "yref": "y"
         },
         {
          "arrowcolor": "#2ab07f",
          "arrowhead": 5,
          "arrowsize": 2,
          "arrowwidth": 1,
          "ax": -2.7997617618887762,
          "axref": "x",
          "ay": -2.736111640645954,
          "ayref": "y",
          "showarrow": true,
          "x": -2.6644671642304796,
          "xref": "x",
          "y": -2.7166640822598915,
          "yref": "y"
         },
         {
          "arrowcolor": "#3aba76",
          "arrowhead": 5,
          "arrowsize": 2,
          "arrowwidth": 1,
          "ax": -2.6805964542002507,
          "axref": "x",
          "ay": -2.6516600007220053,
          "ayref": "y",
          "showarrow": true,
          "x": -2.561431146511725,
          "xref": "x",
          "y": -2.5672083607980567,
          "yref": "y"
         },
         {
          "arrowcolor": "#4cc26c",
          "arrowhead": 5,
          "arrowsize": 2,
          "arrowwidth": 1,
          "ax": -2.582732276448417,
          "axref": "x",
          "ay": -2.531785997664876,
          "ayref": "y",
          "showarrow": true,
          "x": -2.4848680986965834,
          "xref": "x",
          "y": -2.411911994607747,
          "yref": "y"
         },
         {
          "arrowcolor": "#1fa188",
          "arrowhead": 5,
          "arrowsize": 2,
          "arrowwidth": 1,
          "ax": -2.5244291904885072,
          "axref": "x",
          "ay": -2.424100103696189,
          "ayref": "y",
          "showarrow": true,
          "x": -2.4661261045285974,
          "xref": "x",
          "y": -2.316414209727502,
          "yref": "y"
         },
         {
          "arrowcolor": "#5ec962",
          "arrowhead": 5,
          "arrowsize": 2,
          "arrowwidth": 1,
          "ax": -2.4760402304661957,
          "axref": "x",
          "ay": -2.2692110362961193,
          "ayref": "y",
          "showarrow": true,
          "x": -2.427651270443884,
          "xref": "x",
          "y": -2.1143219688960495,
          "yref": "y"
         },
         {
          "arrowcolor": "#2a768e",
          "arrowhead": 5,
          "arrowsize": 2,
          "arrowwidth": 1,
          "ax": -2.4244651024381545,
          "axref": "x",
          "ay": -2.2021024319204003,
          "ayref": "y",
          "showarrow": true,
          "x": -2.3728899744101133,
          "xref": "x",
          "y": -2.1349938275446814,
          "yref": "y"
         },
         {
          "arrowcolor": "#37b878",
          "arrowhead": 5,
          "arrowsize": 2,
          "arrowwidth": 1,
          "ax": -2.306575289849194,
          "axref": "x",
          "ay": -2.1185930793818137,
          "ayref": "y",
          "showarrow": true,
          "x": -2.1886854772602335,
          "xref": "x",
          "y": -2.035083726843227,
          "yref": "y"
         },
         {
          "arrowcolor": "#3bbb75",
          "arrowhead": 5,
          "arrowsize": 2,
          "arrowwidth": 1,
          "ax": -2.172830249293194,
          "axref": "x",
          "ay": -2.058752249581638,
          "ayref": "y",
          "showarrow": true,
          "x": -2.039085208737194,
          "xref": "x",
          "y": -1.9989114197814626,
          "yref": "y"
         },
         {
          "arrowcolor": "#2a778e",
          "arrowhead": 5,
          "arrowsize": 2,
          "arrowwidth": 1,
          "ax": -2.088135442696999,
          "axref": "x",
          "ay": -2.0472722156900613,
          "ayref": "y",
          "showarrow": true,
          "x": -2.003440636100804,
          "xref": "x",
          "y": -2.0357921817984845,
          "yref": "y"
         },
         {
          "arrowcolor": "#33638d",
          "arrowhead": 5,
          "arrowsize": 2,
          "arrowwidth": 1,
          "ax": -2.020598345260008,
          "axref": "x",
          "ay": -2.0389163982828844,
          "ayref": "y",
          "showarrow": true,
          "x": -1.9530612478230167,
          "xref": "x",
          "y": -2.0305605808757075,
          "yref": "y"
         },
         {
          "arrowcolor": "#2d708e",
          "arrowhead": 5,
          "arrowsize": 2,
          "arrowwidth": 1,
          "ax": -1.9422690368852324,
          "axref": "x",
          "ay": -2.0390505573530446,
          "ayref": "y",
          "showarrow": true,
          "x": -1.863939728510457,
          "xref": "x",
          "y": -2.039184716423205,
          "yref": "y"
         },
         {
          "arrowcolor": "#23898e",
          "arrowhead": 5,
          "arrowsize": 2,
          "arrowwidth": 1,
          "ax": -1.8413128582592062,
          "axref": "x",
          "ay": -2.047274024881619,
          "ayref": "y",
          "showarrow": true,
          "x": -1.74035667963318,
          "xref": "x",
          "y": -2.055497492410193,
          "yref": "y"
         },
         {
          "arrowcolor": "#228d8d",
          "arrowhead": 5,
          "arrowsize": 2,
          "arrowwidth": 1,
          "ax": -1.7369089156635789,
          "axref": "x",
          "ay": -2.055796525172786,
          "ayref": "y",
          "showarrow": true,
          "x": -1.6325049730679515,
          "xref": "x",
          "y": -2.0643190254639534,
          "yref": "y"
         },
         {
          "arrowcolor": "#414287",
          "arrowhead": 5,
          "arrowsize": 2,
          "arrowwidth": 1,
          "ax": -1.697351106568468,
          "axref": "x",
          "ay": -2.0410281384142563,
          "ayref": "y",
          "showarrow": true,
          "x": -1.6577932974733574,
          "xref": "x",
          "y": -2.0262597516557266,
          "yref": "y"
         },
         {
          "arrowcolor": "#38588c",
          "arrowhead": 5,
          "arrowsize": 2,
          "arrowwidth": 1,
          "ax": -1.6458123464596401,
          "axref": "x",
          "ay": -2.0687100973577195,
          "ayref": "y",
          "showarrow": true,
          "x": -1.5942735863508122,
          "xref": "x",
          "y": -2.0963920563011826,
          "yref": "y"
         },
         {
          "arrowcolor": "#2c718e",
          "arrowhead": 5,
          "arrowsize": 2,
          "arrowwidth": 1,
          "ax": -1.566023279967242,
          "axref": "x",
          "ay": -2.0780747553750323,
          "ayref": "y",
          "showarrow": true,
          "x": -1.4862342134748439,
          "xref": "x",
          "y": -2.087439413392345,
          "yref": "y"
         },
         {
          "arrowcolor": "#25848e",
          "arrowhead": 5,
          "arrowsize": 2,
          "arrowwidth": 1,
          "ax": -1.5284226075750555,
          "axref": "x",
          "ay": -1.9881546265020318,
          "ayref": "y",
          "showarrow": true,
          "x": -1.490821935182869,
          "xref": "x",
          "y": -1.8982344976290313,
          "yref": "y"
         },
         {
          "arrowcolor": "#21918c",
          "arrowhead": 5,
          "arrowsize": 2,
          "arrowwidth": 1,
          "ax": -1.4548344669678426,
          "axref": "x",
          "ay": -1.908814531895276,
          "ayref": "y",
          "showarrow": true,
          "x": -1.3812463263606296,
          "xref": "x",
          "y": -1.8294744372885203,
          "yref": "y"
         },
         {
          "arrowcolor": "#25858e",
          "arrowhead": 5,
          "arrowsize": 2,
          "arrowwidth": 1,
          "ax": -1.3907566037064252,
          "axref": "x",
          "ay": -1.8348832886131847,
          "ayref": "y",
          "showarrow": true,
          "x": -1.3266787404450078,
          "xref": "x",
          "y": -1.7609520453310934,
          "yref": "y"
         },
         {
          "arrowcolor": "#26818e",
          "arrowhead": 5,
          "arrowsize": 2,
          "arrowwidth": 1,
          "ax": -1.3590704749424733,
          "axref": "x",
          "ay": -1.746454532366955,
          "ayref": "y",
          "showarrow": true,
          "x": -1.3273843461785215,
          "xref": "x",
          "y": -1.658025776120725,
          "yref": "y"
         },
         {
          "arrowcolor": "#2c738e",
          "arrowhead": 5,
          "arrowsize": 2,
          "arrowwidth": 1,
          "ax": -1.355451682876507,
          "axref": "x",
          "ay": -1.6644565655453687,
          "ayref": "y",
          "showarrow": true,
          "x": -1.3518328908105408,
          "xref": "x",
          "y": -1.5824585987237825,
          "yref": "y"
         },
         {
          "arrowcolor": "#1f968b",
          "arrowhead": 5,
          "arrowsize": 2,
          "arrowwidth": 1,
          "ax": -1.339366376119202,
          "axref": "x",
          "ay": -1.5523247778759757,
          "ayref": "y",
          "showarrow": true,
          "x": -1.323281069361897,
          "xref": "x",
          "y": -1.4401929902065826,
          "yref": "y"
         },
         {
          "arrowcolor": "#228d8d",
          "arrowhead": 5,
          "arrowsize": 2,
          "arrowwidth": 1,
          "ax": -1.3139974845510771,
          "axref": "x",
          "ay": -1.4508225705717577,
          "ayref": "y",
          "showarrow": true,
          "x": -1.2886285929829522,
          "xref": "x",
          "y": -1.3493203632675397,
          "yref": "y"
         },
         {
          "arrowcolor": "#26818e",
          "arrowhead": 5,
          "arrowsize": 2,
          "arrowwidth": 1,
          "ax": -1.2685308561621922,
          "axref": "x",
          "ay": -1.3686331757437957,
          "ayref": "y",
          "showarrow": true,
          "x": -1.2230642277733073,
          "xref": "x",
          "y": -1.2864437809158338,
          "yref": "y"
         },
         {
          "arrowcolor": "#29af7f",
          "arrowhead": 5,
          "arrowsize": 2,
          "arrowwidth": 1,
          "ax": -1.1895393340947522,
          "axref": "x",
          "ay": -1.2582360864860034,
          "ayref": "y",
          "showarrow": true,
          "x": -1.1105478120273122,
          "xref": "x",
          "y": -1.147838997228211,
          "yref": "y"
         },
         {
          "arrowcolor": "#fde725",
          "arrowhead": 5,
          "arrowsize": 2,
          "arrowwidth": 1,
          "ax": -1.0327439725747474,
          "axref": "x",
          "ay": -1.1105848596658938,
          "ayref": "y",
          "showarrow": true,
          "x": -0.8759486110547425,
          "xref": "x",
          "y": -0.9629336328457843,
          "yref": "y"
         },
         {
          "arrowcolor": "#b5de2b",
          "arrowhead": 5,
          "arrowsize": 2,
          "arrowwidth": 1,
          "ax": -0.9071395421400712,
          "axref": "x",
          "ay": -0.9663721154026562,
          "ayref": "y",
          "showarrow": true,
          "x": -0.781535111705395,
          "xref": "x",
          "y": -0.8221593711394186,
          "yref": "y"
         },
         {
          "arrowcolor": "#cde11d",
          "arrowhead": 5,
          "arrowsize": 2,
          "arrowwidth": 1,
          "ax": -0.8523460810995312,
          "axref": "x",
          "ay": -0.7749110083316946,
          "ayref": "y",
          "showarrow": true,
          "x": -0.7975526200589913,
          "xref": "x",
          "y": -0.5834499012607329,
          "yref": "y"
         },
         {
          "arrowcolor": "#77d153",
          "arrowhead": 5,
          "arrowsize": 2,
          "arrowwidth": 1,
          "ax": -0.8091405231146727,
          "axref": "x",
          "ay": -0.6089797715839067,
          "ayref": "y",
          "showarrow": true,
          "x": -0.7659349651298141,
          "xref": "x",
          "y": -0.44304853483611883,
          "yref": "y"
         },
         {
          "arrowcolor": "#38b977",
          "arrowhead": 5,
          "arrowsize": 2,
          "arrowwidth": 1,
          "ax": -0.8054838891723349,
          "axref": "x",
          "ay": -0.46413346667613653,
          "ayref": "y",
          "showarrow": true,
          "x": -0.8018272552299972,
          "xref": "x",
          "y": -0.31928716176836636,
          "yref": "y"
         },
         {
          "arrowcolor": "#1f9e89",
          "arrowhead": 5,
          "arrowsize": 2,
          "arrowwidth": 1,
          "ax": -0.7612399933890861,
          "axref": "x",
          "ay": -0.3529952424802423,
          "ayref": "y",
          "showarrow": true,
          "x": -0.7169960976058373,
          "xref": "x",
          "y": -0.24185701828434802,
          "yref": "y"
         },
         {
          "arrowcolor": "#21a585",
          "arrowhead": 5,
          "arrowsize": 2,
          "arrowwidth": 1,
          "ax": -0.7472588334614377,
          "axref": "x",
          "ay": -0.22695701564271675,
          "ayref": "y",
          "showarrow": true,
          "x": -0.7332776735337894,
          "xref": "x",
          "y": -0.10091878880519123,
          "yref": "y"
         },
         {
          "arrowcolor": "#2a778e",
          "arrowhead": 5,
          "arrowsize": 2,
          "arrowwidth": 1,
          "ax": -0.7491019676016212,
          "axref": "x",
          "ay": -0.14200245365478864,
          "ayref": "y",
          "showarrow": true,
          "x": -0.7509451017418046,
          "xref": "x",
          "y": -0.05704789166686053,
          "yref": "y"
         },
         {
          "arrowcolor": "#1f968b",
          "arrowhead": 5,
          "arrowsize": 2,
          "arrowwidth": 1,
          "ax": -0.7473675989084781,
          "axref": "x",
          "ay": -0.028689958064591986,
          "ayref": "y",
          "showarrow": true,
          "x": -0.7456332302153351,
          "xref": "x",
          "y": 0.08462253752560467,
          "yref": "y"
         },
         {
          "arrowcolor": "#46307e",
          "arrowhead": 5,
          "arrowsize": 2,
          "arrowwidth": 1,
          "ax": -0.7273819706633035,
          "axref": "x",
          "ay": -0.0063233678060905275,
          "ayref": "y",
          "showarrow": true,
          "x": -0.7073963424181288,
          "xref": "x",
          "y": 0.01604322245241093,
          "yref": "y"
         },
         {
          "arrowcolor": "#46337f",
          "arrowhead": 5,
          "arrowsize": 2,
          "arrowwidth": 1,
          "ax": -0.6971406839048165,
          "axref": "x",
          "ay": -0.016317098651123726,
          "ayref": "y",
          "showarrow": true,
          "x": -0.6668993971463296,
          "xref": "x",
          "y": -0.026310829496156925,
          "yref": "y"
         },
         {
          "arrowcolor": "#453781",
          "arrowhead": 5,
          "arrowsize": 2,
          "arrowwidth": 1,
          "ax": -0.6800069685238608,
          "axref": "x",
          "ay": -0.04538854238705568,
          "ayref": "y",
          "showarrow": true,
          "x": -0.662873253142905,
          "xref": "x",
          "y": -0.07445998612298764,
          "yref": "y"
         },
         {
          "arrowcolor": "#365c8d",
          "arrowhead": 5,
          "arrowsize": 2,
          "arrowwidth": 1,
          "ax": -0.740642616966009,
          "axref": "x",
          "ay": -0.05837222983127455,
          "ayref": "y",
          "showarrow": true,
          "x": -0.8012782654081572,
          "xref": "x",
          "y": -0.07135591727549341,
          "yref": "y"
         },
         {
          "arrowcolor": "#29798e",
          "arrowhead": 5,
          "arrowsize": 2,
          "arrowwidth": 1,
          "ax": -0.8070964472142169,
          "axref": "x",
          "ay": -0.001557790714114042,
          "ayref": "y",
          "showarrow": true,
          "x": -0.8735502774624249,
          "xref": "x",
          "y": 0.05525664840304646,
          "yref": "y"
         },
         {
          "arrowcolor": "#30698e",
          "arrowhead": 5,
          "arrowsize": 2,
          "arrowwidth": 1,
          "ax": -0.8357762860411527,
          "axref": "x",
          "ay": 0.06489772763318122,
          "ayref": "y",
          "showarrow": true,
          "x": -0.8644561248680885,
          "xref": "x",
          "y": 0.13135324598047649,
          "yref": "y"
         },
         {
          "arrowcolor": "#33638d",
          "arrowhead": 5,
          "arrowsize": 2,
          "arrowwidth": 1,
          "ax": -0.8029450009050545,
          "axref": "x",
          "ay": 0.12420183687812977,
          "ayref": "y",
          "showarrow": true,
          "x": -0.7701137157689563,
          "xref": "x",
          "y": 0.18350594612307833,
          "yref": "y"
         },
         {
          "arrowcolor": "#453882",
          "arrowhead": 5,
          "arrowsize": 2,
          "arrowwidth": 1,
          "ax": -0.776236727521603,
          "axref": "x",
          "ay": 0.14633480616383937,
          "ayref": "y",
          "showarrow": true,
          "x": -0.7495284541381515,
          "xref": "x",
          "y": 0.16846777544954897,
          "yref": "y"
         },
         {
          "arrowcolor": "#48186a",
          "arrowhead": 5,
          "arrowsize": 2,
          "arrowwidth": 1,
          "ax": -0.7725916701778879,
          "axref": "x",
          "ay": 0.13268990731656322,
          "ayref": "y",
          "showarrow": true,
          "x": -0.7689466128341728,
          "xref": "x",
          "y": 0.11904500846928706,
          "yref": "y"
         },
         {
          "arrowcolor": "#482071",
          "arrowhead": 5,
          "arrowsize": 2,
          "arrowwidth": 1,
          "ax": -0.791482989011752,
          "axref": "x",
          "ay": 0.13174915541138332,
          "ayref": "y",
          "showarrow": true,
          "x": -0.810374307845616,
          "xref": "x",
          "y": 0.13080840350620343,
          "yref": "y"
         },
         {
          "arrowcolor": "#46327e",
          "arrowhead": 5,
          "arrowsize": 2,
          "arrowwidth": 1,
          "ax": -0.8220257884506432,
          "axref": "x",
          "ay": 0.1300831838563147,
          "ayref": "y",
          "showarrow": true,
          "x": -0.8525685878895345,
          "xref": "x",
          "y": 0.1284172123012461,
          "yref": "y"
         },
         {
          "showarrow": false,
          "text": "clicked button",
          "x": 0,
          "xref": "x",
          "y": 0,
          "yref": "y"
         }
        ],
        "height": 500,
        "margin": {
         "b": 0,
         "l": 0,
         "r": 0,
         "t": 30
        },
        "shapes": [
         {
          "fillcolor": "rgba(0, 0, 255, 0.3)",
          "line": {
           "color": "black",
           "width": 2
          },
          "type": "rect",
          "x0": -63.21141229648971,
          "x1": 63.21141229648971,
          "y0": -26.302060489916794,
          "y1": 26.302060489916794
         }
        ],
        "template": {
         "data": {
          "bar": [
           {
            "error_x": {
             "color": "#2a3f5f"
            },
            "error_y": {
             "color": "#2a3f5f"
            },
            "marker": {
             "line": {
              "color": "#E5ECF6",
              "width": 0.5
             },
             "pattern": {
              "fillmode": "overlay",
              "size": 10,
              "solidity": 0.2
             }
            },
            "type": "bar"
           }
          ],
          "barpolar": [
           {
            "marker": {
             "line": {
              "color": "#E5ECF6",
              "width": 0.5
             },
             "pattern": {
              "fillmode": "overlay",
              "size": 10,
              "solidity": 0.2
             }
            },
            "type": "barpolar"
           }
          ],
          "carpet": [
           {
            "aaxis": {
             "endlinecolor": "#2a3f5f",
             "gridcolor": "white",
             "linecolor": "white",
             "minorgridcolor": "white",
             "startlinecolor": "#2a3f5f"
            },
            "baxis": {
             "endlinecolor": "#2a3f5f",
             "gridcolor": "white",
             "linecolor": "white",
             "minorgridcolor": "white",
             "startlinecolor": "#2a3f5f"
            },
            "type": "carpet"
           }
          ],
          "choropleth": [
           {
            "colorbar": {
             "outlinewidth": 0,
             "ticks": ""
            },
            "type": "choropleth"
           }
          ],
          "contour": [
           {
            "colorbar": {
             "outlinewidth": 0,
             "ticks": ""
            },
            "colorscale": [
             [
              0,
              "#0d0887"
             ],
             [
              0.1111111111111111,
              "#46039f"
             ],
             [
              0.2222222222222222,
              "#7201a8"
             ],
             [
              0.3333333333333333,
              "#9c179e"
             ],
             [
              0.4444444444444444,
              "#bd3786"
             ],
             [
              0.5555555555555556,
              "#d8576b"
             ],
             [
              0.6666666666666666,
              "#ed7953"
             ],
             [
              0.7777777777777778,
              "#fb9f3a"
             ],
             [
              0.8888888888888888,
              "#fdca26"
             ],
             [
              1,
              "#f0f921"
             ]
            ],
            "type": "contour"
           }
          ],
          "contourcarpet": [
           {
            "colorbar": {
             "outlinewidth": 0,
             "ticks": ""
            },
            "type": "contourcarpet"
           }
          ],
          "heatmap": [
           {
            "colorbar": {
             "outlinewidth": 0,
             "ticks": ""
            },
            "colorscale": [
             [
              0,
              "#0d0887"
             ],
             [
              0.1111111111111111,
              "#46039f"
             ],
             [
              0.2222222222222222,
              "#7201a8"
             ],
             [
              0.3333333333333333,
              "#9c179e"
             ],
             [
              0.4444444444444444,
              "#bd3786"
             ],
             [
              0.5555555555555556,
              "#d8576b"
             ],
             [
              0.6666666666666666,
              "#ed7953"
             ],
             [
              0.7777777777777778,
              "#fb9f3a"
             ],
             [
              0.8888888888888888,
              "#fdca26"
             ],
             [
              1,
              "#f0f921"
             ]
            ],
            "type": "heatmap"
           }
          ],
          "heatmapgl": [
           {
            "colorbar": {
             "outlinewidth": 0,
             "ticks": ""
            },
            "colorscale": [
             [
              0,
              "#0d0887"
             ],
             [
              0.1111111111111111,
              "#46039f"
             ],
             [
              0.2222222222222222,
              "#7201a8"
             ],
             [
              0.3333333333333333,
              "#9c179e"
             ],
             [
              0.4444444444444444,
              "#bd3786"
             ],
             [
              0.5555555555555556,
              "#d8576b"
             ],
             [
              0.6666666666666666,
              "#ed7953"
             ],
             [
              0.7777777777777778,
              "#fb9f3a"
             ],
             [
              0.8888888888888888,
              "#fdca26"
             ],
             [
              1,
              "#f0f921"
             ]
            ],
            "type": "heatmapgl"
           }
          ],
          "histogram": [
           {
            "marker": {
             "pattern": {
              "fillmode": "overlay",
              "size": 10,
              "solidity": 0.2
             }
            },
            "type": "histogram"
           }
          ],
          "histogram2d": [
           {
            "colorbar": {
             "outlinewidth": 0,
             "ticks": ""
            },
            "colorscale": [
             [
              0,
              "#0d0887"
             ],
             [
              0.1111111111111111,
              "#46039f"
             ],
             [
              0.2222222222222222,
              "#7201a8"
             ],
             [
              0.3333333333333333,
              "#9c179e"
             ],
             [
              0.4444444444444444,
              "#bd3786"
             ],
             [
              0.5555555555555556,
              "#d8576b"
             ],
             [
              0.6666666666666666,
              "#ed7953"
             ],
             [
              0.7777777777777778,
              "#fb9f3a"
             ],
             [
              0.8888888888888888,
              "#fdca26"
             ],
             [
              1,
              "#f0f921"
             ]
            ],
            "type": "histogram2d"
           }
          ],
          "histogram2dcontour": [
           {
            "colorbar": {
             "outlinewidth": 0,
             "ticks": ""
            },
            "colorscale": [
             [
              0,
              "#0d0887"
             ],
             [
              0.1111111111111111,
              "#46039f"
             ],
             [
              0.2222222222222222,
              "#7201a8"
             ],
             [
              0.3333333333333333,
              "#9c179e"
             ],
             [
              0.4444444444444444,
              "#bd3786"
             ],
             [
              0.5555555555555556,
              "#d8576b"
             ],
             [
              0.6666666666666666,
              "#ed7953"
             ],
             [
              0.7777777777777778,
              "#fb9f3a"
             ],
             [
              0.8888888888888888,
              "#fdca26"
             ],
             [
              1,
              "#f0f921"
             ]
            ],
            "type": "histogram2dcontour"
           }
          ],
          "mesh3d": [
           {
            "colorbar": {
             "outlinewidth": 0,
             "ticks": ""
            },
            "type": "mesh3d"
           }
          ],
          "parcoords": [
           {
            "line": {
             "colorbar": {
              "outlinewidth": 0,
              "ticks": ""
             }
            },
            "type": "parcoords"
           }
          ],
          "pie": [
           {
            "automargin": true,
            "type": "pie"
           }
          ],
          "scatter": [
           {
            "fillpattern": {
             "fillmode": "overlay",
             "size": 10,
             "solidity": 0.2
            },
            "type": "scatter"
           }
          ],
          "scatter3d": [
           {
            "line": {
             "colorbar": {
              "outlinewidth": 0,
              "ticks": ""
             }
            },
            "marker": {
             "colorbar": {
              "outlinewidth": 0,
              "ticks": ""
             }
            },
            "type": "scatter3d"
           }
          ],
          "scattercarpet": [
           {
            "marker": {
             "colorbar": {
              "outlinewidth": 0,
              "ticks": ""
             }
            },
            "type": "scattercarpet"
           }
          ],
          "scattergeo": [
           {
            "marker": {
             "colorbar": {
              "outlinewidth": 0,
              "ticks": ""
             }
            },
            "type": "scattergeo"
           }
          ],
          "scattergl": [
           {
            "marker": {
             "colorbar": {
              "outlinewidth": 0,
              "ticks": ""
             }
            },
            "type": "scattergl"
           }
          ],
          "scattermapbox": [
           {
            "marker": {
             "colorbar": {
              "outlinewidth": 0,
              "ticks": ""
             }
            },
            "type": "scattermapbox"
           }
          ],
          "scatterpolar": [
           {
            "marker": {
             "colorbar": {
              "outlinewidth": 0,
              "ticks": ""
             }
            },
            "type": "scatterpolar"
           }
          ],
          "scatterpolargl": [
           {
            "marker": {
             "colorbar": {
              "outlinewidth": 0,
              "ticks": ""
             }
            },
            "type": "scatterpolargl"
           }
          ],
          "scatterternary": [
           {
            "marker": {
             "colorbar": {
              "outlinewidth": 0,
              "ticks": ""
             }
            },
            "type": "scatterternary"
           }
          ],
          "surface": [
           {
            "colorbar": {
             "outlinewidth": 0,
             "ticks": ""
            },
            "colorscale": [
             [
              0,
              "#0d0887"
             ],
             [
              0.1111111111111111,
              "#46039f"
             ],
             [
              0.2222222222222222,
              "#7201a8"
             ],
             [
              0.3333333333333333,
              "#9c179e"
             ],
             [
              0.4444444444444444,
              "#bd3786"
             ],
             [
              0.5555555555555556,
              "#d8576b"
             ],
             [
              0.6666666666666666,
              "#ed7953"
             ],
             [
              0.7777777777777778,
              "#fb9f3a"
             ],
             [
              0.8888888888888888,
              "#fdca26"
             ],
             [
              1,
              "#f0f921"
             ]
            ],
            "type": "surface"
           }
          ],
          "table": [
           {
            "cells": {
             "fill": {
              "color": "#EBF0F8"
             },
             "line": {
              "color": "white"
             }
            },
            "header": {
             "fill": {
              "color": "#C8D4E3"
             },
             "line": {
              "color": "white"
             }
            },
            "type": "table"
           }
          ]
         },
         "layout": {
          "annotationdefaults": {
           "arrowcolor": "#2a3f5f",
           "arrowhead": 0,
           "arrowwidth": 1
          },
          "autotypenumbers": "strict",
          "coloraxis": {
           "colorbar": {
            "outlinewidth": 0,
            "ticks": ""
           }
          },
          "colorscale": {
           "diverging": [
            [
             0,
             "#8e0152"
            ],
            [
             0.1,
             "#c51b7d"
            ],
            [
             0.2,
             "#de77ae"
            ],
            [
             0.3,
             "#f1b6da"
            ],
            [
             0.4,
             "#fde0ef"
            ],
            [
             0.5,
             "#f7f7f7"
            ],
            [
             0.6,
             "#e6f5d0"
            ],
            [
             0.7,
             "#b8e186"
            ],
            [
             0.8,
             "#7fbc41"
            ],
            [
             0.9,
             "#4d9221"
            ],
            [
             1,
             "#276419"
            ]
           ],
           "sequential": [
            [
             0,
             "#0d0887"
            ],
            [
             0.1111111111111111,
             "#46039f"
            ],
            [
             0.2222222222222222,
             "#7201a8"
            ],
            [
             0.3333333333333333,
             "#9c179e"
            ],
            [
             0.4444444444444444,
             "#bd3786"
            ],
            [
             0.5555555555555556,
             "#d8576b"
            ],
            [
             0.6666666666666666,
             "#ed7953"
            ],
            [
             0.7777777777777778,
             "#fb9f3a"
            ],
            [
             0.8888888888888888,
             "#fdca26"
            ],
            [
             1,
             "#f0f921"
            ]
           ],
           "sequentialminus": [
            [
             0,
             "#0d0887"
            ],
            [
             0.1111111111111111,
             "#46039f"
            ],
            [
             0.2222222222222222,
             "#7201a8"
            ],
            [
             0.3333333333333333,
             "#9c179e"
            ],
            [
             0.4444444444444444,
             "#bd3786"
            ],
            [
             0.5555555555555556,
             "#d8576b"
            ],
            [
             0.6666666666666666,
             "#ed7953"
            ],
            [
             0.7777777777777778,
             "#fb9f3a"
            ],
            [
             0.8888888888888888,
             "#fdca26"
            ],
            [
             1,
             "#f0f921"
            ]
           ]
          },
          "colorway": [
           "#636efa",
           "#EF553B",
           "#00cc96",
           "#ab63fa",
           "#FFA15A",
           "#19d3f3",
           "#FF6692",
           "#B6E880",
           "#FF97FF",
           "#FECB52"
          ],
          "font": {
           "color": "#2a3f5f"
          },
          "geo": {
           "bgcolor": "white",
           "lakecolor": "white",
           "landcolor": "#E5ECF6",
           "showlakes": true,
           "showland": true,
           "subunitcolor": "white"
          },
          "hoverlabel": {
           "align": "left"
          },
          "hovermode": "closest",
          "mapbox": {
           "style": "light"
          },
          "paper_bgcolor": "white",
          "plot_bgcolor": "#E5ECF6",
          "polar": {
           "angularaxis": {
            "gridcolor": "white",
            "linecolor": "white",
            "ticks": ""
           },
           "bgcolor": "#E5ECF6",
           "radialaxis": {
            "gridcolor": "white",
            "linecolor": "white",
            "ticks": ""
           }
          },
          "scene": {
           "xaxis": {
            "backgroundcolor": "#E5ECF6",
            "gridcolor": "white",
            "gridwidth": 2,
            "linecolor": "white",
            "showbackground": true,
            "ticks": "",
            "zerolinecolor": "white"
           },
           "yaxis": {
            "backgroundcolor": "#E5ECF6",
            "gridcolor": "white",
            "gridwidth": 2,
            "linecolor": "white",
            "showbackground": true,
            "ticks": "",
            "zerolinecolor": "white"
           },
           "zaxis": {
            "backgroundcolor": "#E5ECF6",
            "gridcolor": "white",
            "gridwidth": 2,
            "linecolor": "white",
            "showbackground": true,
            "ticks": "",
            "zerolinecolor": "white"
           }
          },
          "shapedefaults": {
           "line": {
            "color": "#2a3f5f"
           }
          },
          "ternary": {
           "aaxis": {
            "gridcolor": "white",
            "linecolor": "white",
            "ticks": ""
           },
           "baxis": {
            "gridcolor": "white",
            "linecolor": "white",
            "ticks": ""
           },
           "bgcolor": "#E5ECF6",
           "caxis": {
            "gridcolor": "white",
            "linecolor": "white",
            "ticks": ""
           }
          },
          "title": {
           "x": 0.05
          },
          "xaxis": {
           "automargin": true,
           "gridcolor": "white",
           "linecolor": "white",
           "ticks": "",
           "title": {
            "standoff": 15
           },
           "zerolinecolor": "white",
           "zerolinewidth": 2
          },
          "yaxis": {
           "automargin": true,
           "gridcolor": "white",
           "linecolor": "white",
           "ticks": "",
           "title": {
            "standoff": 15
           },
           "zerolinecolor": "white",
           "zerolinewidth": 2
          }
         }
        },
        "title": {
         "text": "Example Collected Mouse Trajectory"
        },
        "width": 500,
        "xaxis": {
         "autorange": false,
         "range": [
          -73.21141229648971,
          73.21141229648971
         ],
         "title": {
          "text": "x"
         }
        },
        "yaxis": {
         "autorange": false,
         "range": [
          -73.21141229648971,
          73.21141229648971
         ],
         "title": {
          "text": "y"
         }
        }
       }
      }
     },
     "metadata": {},
     "output_type": "display_data"
    }
   ],
   "source": [
    "averageMove = np.array(dataset.input_trajectories).mean(axis=0)\n",
    "# averageMove = averageMove * dataset.std_traj + dataset.mean_traj\n",
    "df_sequence = pd.DataFrame(averageMove, columns=['dx','dy'])\n",
    "df_sequence['velocity'] = np.sqrt(df_sequence['dx']**2 + df_sequence['dy']**2) / dataset.FIXED_TIMESTEP\n",
    "df_target = pd.DataFrame(np.array(dataset.buttonTargets).mean(axis=0), columns=['width','height','start_x','start_y'])\n",
    "sequence_id = 0\n",
    "dataset.SHOW_ONE = True\n",
    "dataset.SHOW_ALL = False\n",
    "df_abs = dataset.convertToAbsolute(df_sequence, df_target)\n",
    "fig = dataset.plotTrajectory(df_abs, df_target[['width','height','start_x','start_y']], sequence_id)"
   ]
  },
  {
   "cell_type": "code",
   "execution_count": null,
   "metadata": {},
   "outputs": [],
   "source": [
    "# df_cleanedSeq, buttonTarget = dataset.processMouseData(SHOW_ALL=False)\n",
    "# df_abs = dataset.convertToAbsolute(df_cleanedSeq, buttonTarget)\n",
    "# dataset.plotTrajectory(df_abs, buttonTarget, 0)\n",
    "# dataloader = getDataloader(norm_input_trajectories, norm_buttonTargets, BATCH_SIZE)\n",
    "\n",
    "# df_sequence, df_target, start_x, start_y,left, top = dataset.processMouseData(SHOW_ONE=True, num_sequences=0)\n",
    "# sequence_id = 0\n",
    "# dataset.SHOW_ONE = True\n",
    "# df_abs = dataset.convertToAbsolute(df_sequence, df_target)\n",
    "# dataset.plotTrajectory(df_abs, df_target[['width','height','start_x','start_y']], sequence_id)"
   ]
  },
  {
   "cell_type": "code",
   "execution_count": null,
   "metadata": {},
   "outputs": [],
   "source": [
    "BATCH_SIZE = 256\n",
    "dataloader = getDataloader(norm_input_trajectories, norm_buttonTargets, BATCH_SIZE)"
   ]
  },
  {
   "attachments": {},
   "cell_type": "markdown",
   "metadata": {},
   "source": [
    "### checking the dataloader"
   ]
  },
  {
   "cell_type": "code",
   "execution_count": null,
   "metadata": {},
   "outputs": [],
   "source": [
    "import plotly.graph_objects as go\n",
    "\n",
    "fig = go.Figure()\n",
    "for i, data in enumerate(dataloader, 0): \n",
    "    _input_trajectories_padded, _buttonTargets, trajectoryLengths = data\n",
    "    # print(_input_trajectories_padded[0])\n",
    "    if i == 3:\n",
    "        break\n",
    "    for ii in range(len(_input_trajectories_padded)):\n",
    "        df_sequence = pd.DataFrame(_input_trajectories_padded[ii] * dataset.std_traj + dataset.mean_traj, columns=['dx','dy'])\n",
    "        df_sequence['velocity'] = np.sqrt(df_sequence['dx']**2 + df_sequence['dy']**2) / dataset.FIXED_TIMESTEP\n",
    "        df_target = pd.DataFrame(_buttonTargets[ii] * dataset.std_button + dataset.mean_button, columns=['width','height','start_x','start_y'])\n",
    "        sequence_id = 0\n",
    "        dataset.SHOW_ONE = True\n",
    "        df_abs = dataset.convertToAbsolute(df_sequence, df_target)\n",
    "\n",
    "        fig.add_trace(go.Scatter(x=df_abs['x'], y=df_abs['y'],\n",
    "                mode='lines+markers',\n",
    "                marker=dict(\n",
    "                            size=5, \n",
    "                            # symbol= \"arrow-bar-up\", angleref=\"previous\",\n",
    "                            # size=15,\n",
    "                            # color='grey',),\n",
    "                            color=df_abs['velocity'], colorscale='Viridis', showscale=True, colorbar=dict(title=\"Velocity\")),\n",
    "                \n",
    "                ))\n",
    "fig.update_layout(\n",
    "    width=800,\n",
    "    height=800,)\n",
    "# fig.show()\n",
    "pass"
   ]
  },
  {
   "cell_type": "code",
   "execution_count": null,
   "metadata": {},
   "outputs": [],
   "source": [
    "from src.mouseGAN.models import WGAN_GP\n",
    "LOAD_PRETRAINED = True\n",
    "\n",
    "num_epochs = 20\n",
    "num_feats = norm_input_trajectories[0].shape[1]\n",
    "MAX_GRAD_NORM = 1000\n",
    "latent_dim = 100\n",
    "num_target_feats = norm_buttonTargets[0].shape[1]\n",
    "MAX_SEQ_LEN = norm_input_trajectories[0].shape[0]\n",
    "\n",
    "device = torch.device(\"cuda\" if torch.cuda.is_available() else \"cpu\")\n",
    "gan = WGAN_GP(device, num_feats, num_target_feats, MAX_SEQ_LEN, miniBatchDisc=True, latent_dim=latent_dim)\n",
    "if LOAD_PRETRAINED:\n",
    "    gan.loadPretrained()\n",
    "\n",
    "gan.train(dataloader, num_epochs, modelSaveInterval=3)"
   ]
  },
  {
   "cell_type": "code",
   "execution_count": null,
   "metadata": {},
   "outputs": [],
   "source": [
    "gan.eval()\n",
    "# z = torch.empty([1, MAX_SEQ_LEN, num_feats]).uniform_().to(device) # random vector\n",
    "# sampling from spherical distribution\n",
    "meanG = []\n",
    "import plotly.graph_objects as go\n",
    "fig = go.Figure()\n",
    "for i in range(10):\n",
    "    for x in range(-100,100, 10):\n",
    "        z = torch.randn([1, MAX_SEQ_LEN, num_feats]).to(device)\n",
    "        z = z / z.norm(dim=-1, keepdim=True)\n",
    "\n",
    "        rawInput = np.array([149.59375,    100.0,       x,      100])\n",
    "        norm_rawInput = (rawInput - dataset.mean_button) / dataset.std_button\n",
    "        buttonTarget = torch.tensor([norm_rawInput], dtype=torch.float32).to(device)\n",
    "\n",
    "        g_states = gan.generator.init_hidden(1)\n",
    "        d_state = gan.discriminator.init_hidden(1)\n",
    "\n",
    "        # feed inputs to generator\n",
    "        g_feats, _ = gan.generator(z, buttonTarget, g_states)\n",
    "        g_feats = g_feats.squeeze(0)\n",
    "        # meanG.append(g_feats.mean(dim=0).cpu().detach().numpy())\n",
    "\n",
    "        # convert back \n",
    "        g_feats = g_feats.cpu().detach().numpy()\n",
    "\n",
    "        input_trajectories, buttonTargets = dataset.denormalize([g_feats], [norm_rawInput])\n",
    "        input_trajectory = input_trajectories[0]\n",
    "        buttonTarget = buttonTargets[0]\n",
    "        df_sequence = pd.DataFrame(input_trajectory, columns=dataset.trajColumns)\n",
    "        df_target = pd.DataFrame([rawInput], columns=dataset.targetColumns)\n",
    "        sequence_id = 0\n",
    "        print(\"starting location \", rawInput[-2:])\n",
    "        dataset.SHOW_ONE = True\n",
    "        # display(df_sequence)\n",
    "        # display(df_target)\n",
    "        start_x = rawInput[-2]\n",
    "        start_y = rawInput[-1]\n",
    "        sequence_id = 0\n",
    "        dataset.SHOW_ONE = True\n",
    "\n",
    "        df_sequence['distance'] = np.sqrt(df_sequence['dx']**2 + df_sequence['dy']**2)\n",
    "        df_sequence['velocity'] = df_sequence['distance'] / dataset.FIXED_TIMESTEP\n",
    "        df_abs = dataset.convertToAbsolute(df_sequence, df_target)\n",
    "        dataset.plotTrajectory(df_abs, df_target[['width','height','start_x','start_y']], sequence_id, fig=fig)"
   ]
  },
  {
   "cell_type": "code",
   "execution_count": 1,
   "metadata": {},
   "outputs": [
    {
     "ename": "NameError",
     "evalue": "name 'go' is not defined",
     "output_type": "error",
     "traceback": [
      "\u001b[0;31m---------------------------------------------------------------------------\u001b[0m",
      "\u001b[0;31mNameError\u001b[0m                                 Traceback (most recent call last)",
      "Cell \u001b[0;32mIn[1], line 96\u001b[0m\n\u001b[1;32m     85\u001b[0m   fig\u001b[39m.\u001b[39mupdate_layout(\n\u001b[1;32m     86\u001b[0m       shapes\u001b[39m=\u001b[39m[square],\n\u001b[1;32m     87\u001b[0m       width\u001b[39m=\u001b[39m\u001b[39m800\u001b[39m,\n\u001b[0;32m   (...)\u001b[0m\n\u001b[1;32m     92\u001b[0m           \u001b[39mrange\u001b[39m\u001b[39m=\u001b[39m[\u001b[39m-\u001b[39mmaxRadius\u001b[39m*\u001b[39m\u001b[39m1.1\u001b[39m, maxRadius\u001b[39m*\u001b[39m\u001b[39m1.1\u001b[39m],)\n\u001b[1;32m     93\u001b[0m   )\n\u001b[1;32m     94\u001b[0m   fig\u001b[39m.\u001b[39mshow()\n\u001b[0;32m---> 96\u001b[0m plotGeneratorSamples()\n\u001b[1;32m     98\u001b[0m \u001b[39m# for epoch in [10,20,30,40,50]:\u001b[39;00m\n\u001b[1;32m     99\u001b[0m \u001b[39m#     latest_g_model = find_epoch_model('g', epoch, CKPT_DIR)\u001b[39;00m\n\u001b[1;32m    100\u001b[0m \u001b[39m#     latest_d_model = find_epoch_model('d', epoch, CKPT_DIR)\u001b[39;00m\n\u001b[0;32m   (...)\u001b[0m\n\u001b[1;32m    108\u001b[0m \u001b[39m#     print(f\"Starting from epoch {epoch}\")\u001b[39;00m\n\u001b[1;32m    109\u001b[0m \u001b[39m#     plotGeneratorSamples()\u001b[39;00m\n",
      "Cell \u001b[0;32mIn[1], line 2\u001b[0m, in \u001b[0;36mplotGeneratorSamples\u001b[0;34m()\u001b[0m\n\u001b[1;32m      1\u001b[0m \u001b[39mdef\u001b[39;00m \u001b[39mplotGeneratorSamples\u001b[39m():\n\u001b[0;32m----> 2\u001b[0m   fig \u001b[39m=\u001b[39m go\u001b[39m.\u001b[39mFigure()\n\u001b[1;32m      3\u001b[0m   AXIAL_RESOLUTION \u001b[39m=\u001b[39m \u001b[39m10\u001b[39m\n\u001b[1;32m      4\u001b[0m   theta \u001b[39m=\u001b[39m np\u001b[39m.\u001b[39mlinspace(\u001b[39m0\u001b[39m, \u001b[39m2\u001b[39m\u001b[39m*\u001b[39mnp\u001b[39m.\u001b[39mpi, AXIAL_RESOLUTION)\n",
      "\u001b[0;31mNameError\u001b[0m: name 'go' is not defined"
     ]
    }
   ],
   "source": [
    "\n",
    "def plotGeneratorSamples():\n",
    "  fig = go.Figure()\n",
    "  AXIAL_RESOLUTION = 10\n",
    "  theta = np.linspace(0, 2*np.pi, AXIAL_RESOLUTION)\n",
    "  low_radius = 100\n",
    "  high_radius = 1000\n",
    "  TOTAL_SAMPLES = 10\n",
    "\n",
    "  trajectories = []\n",
    "  buttonTargets = []\n",
    "  maxRadius = 0\n",
    "\n",
    "  TARGET_WIDTH = 150\n",
    "  TARGET_HEIGHT = 100\n",
    "\n",
    "  for i in range(TOTAL_SAMPLES // AXIAL_RESOLUTION):\n",
    "      radius = np.random.random() * (high_radius - low_radius) + low_radius\n",
    "      radius = 200\n",
    "      maxRadius = max(maxRadius, radius)\n",
    "      x = radius * np.cos(theta) \n",
    "      y = radius * np.sin(theta)\n",
    "      for (x1,y1) in zip(x,y):\n",
    "          z = torch.randn([1, MAX_SEQ_LEN, num_feats]).to(device)\n",
    "          z = z / z.norm(dim=-1, keepdim=True)\n",
    "\n",
    "          rawInput = np.array([TARGET_WIDTH,    TARGET_HEIGHT,       x1,      y1])\n",
    "\n",
    "          norm_rawInput = (rawInput - dataset.mean_button) / dataset.std_button\n",
    "          buttonTarget = torch.tensor([norm_rawInput], dtype=torch.float32).to(device)\n",
    "\n",
    "          g_states = gan.generator.init_hidden(1)\n",
    "          d_state = gan.discriminator.init_hidden(1)\n",
    "\n",
    "          # feed inputs to generator\n",
    "          g_feats, _ = gan.generator(z, buttonTarget, g_states)\n",
    "          g_feats = g_feats.squeeze(0)\n",
    "          # meanG.append(g_feats.mean(dim=0).cpu().detach().numpy())\n",
    "\n",
    "          # convert back \n",
    "          g_feats = g_feats.cpu().detach().numpy()\n",
    "\n",
    "          input_trajectories, buttonTargets = dataset.denormalize([g_feats], [norm_rawInput])\n",
    "          input_trajectory = input_trajectories[0]\n",
    "          buttonTarget = buttonTargets[0]\n",
    "          df_sequence = pd.DataFrame(input_trajectory, columns=dataset.trajColumns)\n",
    "          df_target = pd.DataFrame([rawInput], columns=dataset.targetColumns)\n",
    "          sequence_id = 0\n",
    "          # print(\"starting location \", rawInput[-2:])\n",
    "          dataset.SHOW_ONE = True\n",
    "          # display(df_sequence)\n",
    "          # display(df_target)\n",
    "          start_x = rawInput[-2]\n",
    "          start_y = rawInput[-1]\n",
    "          sequence_id = 0\n",
    "          dataset.SHOW_ONE = True\n",
    "\n",
    "          df_sequence['distance'] = np.sqrt(df_sequence['dx']**2 + df_sequence['dy']**2)\n",
    "          df_sequence['velocity'] = df_sequence['distance'] / dataset.FIXED_TIMESTEP\n",
    "          df_abs = dataset.convertToAbsolute(df_sequence, df_target)\n",
    "\n",
    "          sequence_id = 0\n",
    "          dataset.SHOW_ONE = True\n",
    "          fig.add_trace(go.Scatter(x=df_abs['x'], y=df_abs['y'],\n",
    "                  mode='lines+markers',\n",
    "                  marker=dict(\n",
    "                              size=5, \n",
    "                              # symbol= \"arrow-bar-up\", angleref=\"previous\",\n",
    "                              # size=15,\n",
    "                              # color='grey',),\n",
    "                              color=df_abs['velocity'], colorscale='Viridis', showscale=True, colorbar=dict(title=\"Velocity\")),\n",
    "                  \n",
    "                  ))\n",
    "  x0, y0 = -TARGET_WIDTH/2, -TARGET_HEIGHT/2\n",
    "  x1, y1 =  TARGET_WIDTH/2, TARGET_HEIGHT/2\n",
    "  square = go.layout.Shape(\n",
    "      type='rect',\n",
    "      x0=x0,\n",
    "      y0=y0,\n",
    "      x1=x1,\n",
    "      y1=y1,\n",
    "      line=dict(color='black', width=2),\n",
    "      fillcolor='rgba(0, 0, 255, 0.3)',\n",
    "  )\n",
    "\n",
    "  fig.update_layout(\n",
    "      shapes=[square],\n",
    "      width=800,\n",
    "      height=800,\n",
    "      xaxis=dict(\n",
    "          range=[-maxRadius*1.1, maxRadius*1.1],)\n",
    "      ,yaxis=dict(\n",
    "          range=[-maxRadius*1.1, maxRadius*1.1],)\n",
    "  )\n",
    "  fig.show()\n",
    "\n",
    "plotGeneratorSamples()\n",
    "\n",
    "# for epoch in [10,20,30,40,50]:\n",
    "#     latest_g_model = find_epoch_model('g', epoch, CKPT_DIR)\n",
    "#     latest_d_model = find_epoch_model('d', epoch, CKPT_DIR)\n",
    "#     if latest_g_model is not None:\n",
    "#         model['g'].load_state_dict(torch.load(latest_g_model))\n",
    "#         print(f\"Loaded generator model: {latest_g_model}\")\n",
    "#     if latest_d_model is not None:\n",
    "#         model['d'].load_state_dict(torch.load(latest_d_model))\n",
    "#         print(f\"Loaded discriminator model: {latest_d_model}\")\n",
    "#     epoch = min(int(latest_g_model.split('/')[-1].split('.')[0][1:]), int(latest_d_model.split('/')[-1].split('.')[0][1:]))\n",
    "#     print(f\"Starting from epoch {epoch}\")\n",
    "#     plotGeneratorSamples()\n"
   ]
  }
 ],
 "metadata": {
  "kernelspec": {
   "display_name": "venv",
   "language": "python",
   "name": "python3"
  },
  "language_info": {
   "codemirror_mode": {
    "name": "ipython",
    "version": 3
   },
   "file_extension": ".py",
   "mimetype": "text/x-python",
   "name": "python",
   "nbconvert_exporter": "python",
   "pygments_lexer": "ipython3",
   "version": "3.8.13"
  },
  "orig_nbformat": 4
 },
 "nbformat": 4,
 "nbformat_minor": 2
}
