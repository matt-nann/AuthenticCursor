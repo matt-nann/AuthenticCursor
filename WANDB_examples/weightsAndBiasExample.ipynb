{
 "cells": [
  {
   "cell_type": "code",
   "execution_count": 13,
   "metadata": {},
   "outputs": [
    {
     "data": {
      "text/html": [
       "Tracking run with wandb version 0.15.4"
      ],
      "text/plain": [
       "<IPython.core.display.HTML object>"
      ]
     },
     "metadata": {},
     "output_type": "display_data"
    },
    {
     "data": {
      "text/html": [
       "Run data is saved locally in <code>/Users/mnann/Documents/Code/AuthenticCursor/wandb/run-20230611_100424-9qao374i</code>"
      ],
      "text/plain": [
       "<IPython.core.display.HTML object>"
      ]
     },
     "metadata": {},
     "output_type": "display_data"
    },
    {
     "data": {
      "text/html": [
       "Syncing run <strong><a href='https://wandb.ai/mnann/mnist-gan/runs/9qao374i' target=\"_blank\">gentle-star-7</a></strong> to <a href='https://wandb.ai/mnann/mnist-gan' target=\"_blank\">Weights & Biases</a> (<a href='https://wandb.me/run' target=\"_blank\">docs</a>)<br/>"
      ],
      "text/plain": [
       "<IPython.core.display.HTML object>"
      ]
     },
     "metadata": {},
     "output_type": "display_data"
    },
    {
     "data": {
      "text/html": [
       " View project at <a href='https://wandb.ai/mnann/mnist-gan' target=\"_blank\">https://wandb.ai/mnann/mnist-gan</a>"
      ],
      "text/plain": [
       "<IPython.core.display.HTML object>"
      ]
     },
     "metadata": {},
     "output_type": "display_data"
    },
    {
     "data": {
      "text/html": [
       " View run at <a href='https://wandb.ai/mnann/mnist-gan/runs/9qao374i' target=\"_blank\">https://wandb.ai/mnann/mnist-gan/runs/9qao374i</a>"
      ],
      "text/plain": [
       "<IPython.core.display.HTML object>"
      ]
     },
     "metadata": {},
     "output_type": "display_data"
    },
    {
     "name": "stdout",
     "output_type": "stream",
     "text": [
      "[1/50] D_loss: 0.7009 G_loss: 1.3495\n",
      "[2/50] D_loss: 0.7604 G_loss: 1.2977\n",
      "[3/50] D_loss: 0.7405 G_loss: 1.3603\n",
      "[4/50] D_loss: 0.7994 G_loss: 1.3257\n",
      "[5/50] D_loss: 0.9728 G_loss: 1.1402\n",
      "[6/50] D_loss: 1.0511 G_loss: 1.1173\n",
      "[7/50] D_loss: 0.7863 G_loss: 1.3897\n",
      "[8/50] D_loss: 1.1030 G_loss: 1.0216\n"
     ]
    },
    {
     "ename": "KeyboardInterrupt",
     "evalue": "",
     "output_type": "error",
     "traceback": [
      "\u001b[0;31m---------------------------------------------------------------------------\u001b[0m",
      "\u001b[0;31mKeyboardInterrupt\u001b[0m                         Traceback (most recent call last)",
      "Cell \u001b[0;32mIn[13], line 92\u001b[0m\n\u001b[1;32m     89\u001b[0m D_loss \u001b[39m=\u001b[39m D_real_loss \u001b[39m+\u001b[39m D_fake_loss\n\u001b[1;32m     91\u001b[0m D_optimizer\u001b[39m.\u001b[39mzero_grad()\n\u001b[0;32m---> 92\u001b[0m D_loss\u001b[39m.\u001b[39;49mbackward()\n\u001b[1;32m     93\u001b[0m D_optimizer\u001b[39m.\u001b[39mstep()\n\u001b[1;32m     95\u001b[0m \u001b[39m# Train Generator\u001b[39;00m\n",
      "File \u001b[0;32m~/Documents/Code/AuthenticCursor/venvDev/lib/python3.8/site-packages/torch/_tensor.py:487\u001b[0m, in \u001b[0;36mTensor.backward\u001b[0;34m(self, gradient, retain_graph, create_graph, inputs)\u001b[0m\n\u001b[1;32m    477\u001b[0m \u001b[39mif\u001b[39;00m has_torch_function_unary(\u001b[39mself\u001b[39m):\n\u001b[1;32m    478\u001b[0m     \u001b[39mreturn\u001b[39;00m handle_torch_function(\n\u001b[1;32m    479\u001b[0m         Tensor\u001b[39m.\u001b[39mbackward,\n\u001b[1;32m    480\u001b[0m         (\u001b[39mself\u001b[39m,),\n\u001b[0;32m   (...)\u001b[0m\n\u001b[1;32m    485\u001b[0m         inputs\u001b[39m=\u001b[39minputs,\n\u001b[1;32m    486\u001b[0m     )\n\u001b[0;32m--> 487\u001b[0m torch\u001b[39m.\u001b[39;49mautograd\u001b[39m.\u001b[39;49mbackward(\n\u001b[1;32m    488\u001b[0m     \u001b[39mself\u001b[39;49m, gradient, retain_graph, create_graph, inputs\u001b[39m=\u001b[39;49minputs\n\u001b[1;32m    489\u001b[0m )\n",
      "File \u001b[0;32m~/Documents/Code/AuthenticCursor/venvDev/lib/python3.8/site-packages/torch/autograd/__init__.py:200\u001b[0m, in \u001b[0;36mbackward\u001b[0;34m(tensors, grad_tensors, retain_graph, create_graph, grad_variables, inputs)\u001b[0m\n\u001b[1;32m    195\u001b[0m     retain_graph \u001b[39m=\u001b[39m create_graph\n\u001b[1;32m    197\u001b[0m \u001b[39m# The reason we repeat same the comment below is that\u001b[39;00m\n\u001b[1;32m    198\u001b[0m \u001b[39m# some Python versions print out the first line of a multi-line function\u001b[39;00m\n\u001b[1;32m    199\u001b[0m \u001b[39m# calls in the traceback and some print out the last line\u001b[39;00m\n\u001b[0;32m--> 200\u001b[0m Variable\u001b[39m.\u001b[39;49m_execution_engine\u001b[39m.\u001b[39;49mrun_backward(  \u001b[39m# Calls into the C++ engine to run the backward pass\u001b[39;49;00m\n\u001b[1;32m    201\u001b[0m     tensors, grad_tensors_, retain_graph, create_graph, inputs,\n\u001b[1;32m    202\u001b[0m     allow_unreachable\u001b[39m=\u001b[39;49m\u001b[39mTrue\u001b[39;49;00m, accumulate_grad\u001b[39m=\u001b[39;49m\u001b[39mTrue\u001b[39;49;00m)\n",
      "\u001b[0;31mKeyboardInterrupt\u001b[0m: "
     ]
    }
   ],
   "source": [
    "import wandb\n",
    "import random\n",
    "import numpy as np\n",
    "\n",
    "import torch\n",
    "import torch.nn as nn\n",
    "from torch.optim import Adam\n",
    "from torchvision import datasets, transforms\n",
    "from torchvision.utils import make_grid\n",
    "from torch.utils.data import DataLoader\n",
    "\n",
    "# Simple Feed-forward GAN\n",
    "class Generator(nn.Module):\n",
    "    def __init__(self, z_dim=20, out_dim=784):\n",
    "        super().__init__()\n",
    "        self.net = nn.Sequential(\n",
    "            nn.Linear(z_dim, 256),\n",
    "            nn.ReLU(),\n",
    "            nn.Linear(256, out_dim),\n",
    "            nn.Tanh()\n",
    "        )\n",
    "\n",
    "    def forward(self, x):\n",
    "        return self.net(x)\n",
    "\n",
    "class Discriminator(nn.Module):\n",
    "    def __init__(self, in_dim=784):\n",
    "        super().__init__()\n",
    "        self.net = nn.Sequential(\n",
    "            nn.Linear(in_dim, 256),\n",
    "            nn.LeakyReLU(0.2),\n",
    "            nn.Linear(256, 1),\n",
    "            nn.Sigmoid()\n",
    "        )\n",
    "\n",
    "    def forward(self, x):\n",
    "        return self.net(x)\n",
    "\n",
    "# Data Preparation\n",
    "transform = transforms.Compose([transforms.ToTensor(), transforms.Normalize([0.5], [0.5])])\n",
    "dataset = datasets.MNIST('./data', train=True, download=True, transform=transform)\n",
    "dataloader = DataLoader(dataset, batch_size=100, shuffle=True)\n",
    "\n",
    "# Initialize Networks\n",
    "z_dim = 20\n",
    "device = torch.device('cuda' if torch.cuda.is_available() else 'cpu')\n",
    "G = Generator(z_dim=z_dim).to(device)\n",
    "D = Discriminator().to(device)\n",
    "\n",
    "# Training Loop\n",
    "num_epochs = 50\n",
    "# Initialize Optimizers\n",
    "lr = 0.0002\n",
    "G_optimizer = Adam(G.parameters(), lr=lr)\n",
    "D_optimizer = Adam(D.parameters(), lr=lr)\n",
    "\n",
    "# Initialize Loss Function\n",
    "criterion = nn.BCELoss()\n",
    "\n",
    "# start a new wandb run to track this script\n",
    "run = wandb.init(\n",
    "    # set the wandb project where this run will be logged\n",
    "    project=\"mnist-gan\",\n",
    "    # track hyperparameters and run metadata\n",
    "    config={\n",
    "        \"learning_rate\": lr,\n",
    "        \"epochs\": num_epochs,\n",
    "        \"z_dim\": z_dim,\n",
    "    }\n",
    ")\n",
    "\n",
    "fixed_noise = torch.randn(100, z_dim).to(device)\n",
    "for epoch in range(num_epochs):\n",
    "    g_loss_avg = 0.0\n",
    "    d_loss_avg = 0.0\n",
    "    for i, (real_images, _) in enumerate(dataloader):\n",
    "        real_images = real_images.view(real_images.size(0), -1).to(device)\n",
    "        batch_size = real_images.size(0)\n",
    "\n",
    "        # Train Discriminator\n",
    "        D_real = D(real_images)\n",
    "        D_real_loss = criterion(D_real, torch.ones(batch_size, 1).to(device))\n",
    "\n",
    "        z = torch.randn(batch_size, z_dim).to(device)\n",
    "        fake_images = G(z)\n",
    "        D_fake = D(fake_images)\n",
    "        D_fake_loss = criterion(D_fake, torch.zeros(batch_size, 1).to(device))\n",
    "\n",
    "        D_loss = D_real_loss + D_fake_loss\n",
    "\n",
    "        D_optimizer.zero_grad()\n",
    "        D_loss.backward()\n",
    "        D_optimizer.step()\n",
    "\n",
    "        # Train Generator\n",
    "        z = torch.randn(batch_size, z_dim).to(device)\n",
    "        fake_images = G(z)\n",
    "        D_fake = D(fake_images)\n",
    "        G_loss = criterion(D_fake, torch.ones(batch_size, 1).to(device))\n",
    "\n",
    "        G_optimizer.zero_grad()\n",
    "        G_loss.backward()\n",
    "        G_optimizer.step()\n",
    "\n",
    "        wandb.log({\"Losses\": {\"D_Loss\": D_loss.item(), \"G_Loss\": G_loss.item()}}, step=epoch * len(dataloader) + i)\n",
    "        d_loss_avg += D_loss.item()\n",
    "        g_loss_avg += G_loss.item()\n",
    "\n",
    "    print(f'[{epoch+1}/{num_epochs}] D_loss: {d_loss_avg/len(dataloader):.4f} G_loss: {g_loss_avg/len(dataloader):.4f}')\n",
    "    fake_images = G(fixed_noise)\n",
    "    img_grid = make_grid(fake_images.view(-1, 1, 28, 28), nrow=10, normalize=True)\n",
    "    wandb.log({\"examples\": [wandb.Image(img_grid)]}, step=epoch)\n",
    "\n",
    "    # Save models every 10 epochs\n",
    "    # if (epoch+1) % 10 == 0:\n",
    "    FOLDER = 'data/local/mnistModels'\n",
    "    generator_artifact = wandb.Artifact('generator', type='model', description='Generator Model')\n",
    "    torch.save(G.state_dict(), FOLDER + '/generator.pth')\n",
    "    generator_artifact.add_file(FOLDER + '/generator.pth')\n",
    "    run.log_artifact(generator_artifact)\n",
    "    discriminator_artifact = wandb.Artifact('discriminator', type='model', description='Discriminator Model')\n",
    "    torch.save(D.state_dict(), FOLDER + '/discriminator.pth')\n",
    "    discriminator_artifact.add_file(FOLDER + '/discriminator.pth')\n",
    "    run.log_artifact(discriminator_artifact)\n",
    "\n",
    "# [optional] finish the wandb run, necessary in notebooks\n",
    "wandb.finish()"
   ]
  },
  {
   "cell_type": "code",
   "execution_count": 12,
   "metadata": {},
   "outputs": [
    {
     "ename": "UsageError",
     "evalue": "Run (klwdrxgs) is finished. The call to `log_artifact` will be ignored. Please make sure that you are using an active run.",
     "output_type": "error",
     "traceback": [
      "\u001b[0;31m---------------------------------------------------------------------------\u001b[0m",
      "\u001b[0;31mUsageError\u001b[0m                                Traceback (most recent call last)",
      "Cell \u001b[0;32mIn[12], line 5\u001b[0m\n\u001b[1;32m      3\u001b[0m torch\u001b[39m.\u001b[39msave(G\u001b[39m.\u001b[39mstate_dict(), FOLDER \u001b[39m+\u001b[39m \u001b[39m'\u001b[39m\u001b[39m/generator.pth\u001b[39m\u001b[39m'\u001b[39m)\n\u001b[1;32m      4\u001b[0m generator_artifact\u001b[39m.\u001b[39madd_file(FOLDER \u001b[39m+\u001b[39m \u001b[39m'\u001b[39m\u001b[39m/generator.pth\u001b[39m\u001b[39m'\u001b[39m)\n\u001b[0;32m----> 5\u001b[0m run\u001b[39m.\u001b[39;49mlog_artifact(generator_artifact)\n\u001b[1;32m      7\u001b[0m discriminator_artifact \u001b[39m=\u001b[39m wandb\u001b[39m.\u001b[39mArtifact(\u001b[39m'\u001b[39m\u001b[39mdiscriminator\u001b[39m\u001b[39m'\u001b[39m, \u001b[39mtype\u001b[39m\u001b[39m=\u001b[39m\u001b[39m'\u001b[39m\u001b[39mmodel\u001b[39m\u001b[39m'\u001b[39m, description\u001b[39m=\u001b[39m\u001b[39m'\u001b[39m\u001b[39mDiscriminator Model\u001b[39m\u001b[39m'\u001b[39m)\n\u001b[1;32m      8\u001b[0m torch\u001b[39m.\u001b[39msave(D\u001b[39m.\u001b[39mstate_dict(), FOLDER \u001b[39m+\u001b[39m \u001b[39m'\u001b[39m\u001b[39m/discriminator.pth\u001b[39m\u001b[39m'\u001b[39m)\n",
      "File \u001b[0;32m~/Documents/Code/AuthenticCursor/venvDev/lib/python3.8/site-packages/wandb/sdk/wandb_run.py:352\u001b[0m, in \u001b[0;36m_run_decorator._noop_on_finish.<locals>.decorator_fn.<locals>.wrapper_fn\u001b[0;34m(self, *args, **kwargs)\u001b[0m\n\u001b[1;32m    350\u001b[0m     warnings\u001b[39m.\u001b[39mwarn(resolved_message, \u001b[39mUserWarning\u001b[39;00m, stacklevel\u001b[39m=\u001b[39m\u001b[39m2\u001b[39m)\n\u001b[1;32m    351\u001b[0m \u001b[39melse\u001b[39;00m:\n\u001b[0;32m--> 352\u001b[0m     \u001b[39mraise\u001b[39;00m errors\u001b[39m.\u001b[39mUsageError(resolved_message)\n",
      "\u001b[0;31mUsageError\u001b[0m: Run (klwdrxgs) is finished. The call to `log_artifact` will be ignored. Please make sure that you are using an active run."
     ]
    }
   ],
   "source": [
    "FOLDER = 'data/local/mnistModels'\n",
    "generator_artifact = wandb.Artifact('generator', type='model', description='Generator Model')\n",
    "torch.save(G.state_dict(), FOLDER + '/generator.pth')\n",
    "generator_artifact.add_file(FOLDER + '/generator.pth')\n",
    "run.log_artifact(generator_artifact)\n",
    "discriminator_artifact = wandb.Artifact('discriminator', type='model', description='Discriminator Model')\n",
    "torch.save(D.state_dict(), FOLDER + '/discriminator.pth')\n",
    "discriminator_artifact.add_file(FOLDER + '/discriminator.pth')\n",
    "run.log_artifact(discriminator_artifact)\n"
   ]
  },
  {
   "cell_type": "code",
   "execution_count": 10,
   "metadata": {},
   "outputs": [
    {
     "data": {
      "text/html": [
       "Waiting for W&B process to finish... <strong style=\"color:green\">(success).</strong>"
      ],
      "text/plain": [
       "<IPython.core.display.HTML object>"
      ]
     },
     "metadata": {},
     "output_type": "display_data"
    },
    {
     "data": {
      "text/html": [
       " View run <strong style=\"color:#cdcd00\">firm-frog-6</strong> at: <a href='https://wandb.ai/mnann/mnist-gan/runs/klwdrxgs' target=\"_blank\">https://wandb.ai/mnann/mnist-gan/runs/klwdrxgs</a><br/>Synced 5 W&B file(s), 10 media file(s), 0 artifact file(s) and 0 other file(s)"
      ],
      "text/plain": [
       "<IPython.core.display.HTML object>"
      ]
     },
     "metadata": {},
     "output_type": "display_data"
    },
    {
     "data": {
      "text/html": [
       "Find logs at: <code>./wandb/run-20230611_095650-klwdrxgs/logs</code>"
      ],
      "text/plain": [
       "<IPython.core.display.HTML object>"
      ]
     },
     "metadata": {},
     "output_type": "display_data"
    }
   ],
   "source": [
    "# [optional] finish the wandb run, necessary in notebooks\n",
    "wandb.finish()"
   ]
  }
 ],
 "metadata": {
  "kernelspec": {
   "display_name": "venvDev",
   "language": "python",
   "name": "python3"
  },
  "language_info": {
   "codemirror_mode": {
    "name": "ipython",
    "version": 3
   },
   "file_extension": ".py",
   "mimetype": "text/x-python",
   "name": "python",
   "nbconvert_exporter": "python",
   "pygments_lexer": "ipython3",
   "version": "3.8.13"
  },
  "orig_nbformat": 4
 },
 "nbformat": 4,
 "nbformat_minor": 2
}
